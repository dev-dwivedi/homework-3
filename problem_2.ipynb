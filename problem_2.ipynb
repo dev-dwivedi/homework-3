{
 "cells": [
  {
   "cell_type": "code",
   "execution_count": 2,
   "metadata": {},
   "outputs": [],
   "source": [
    "import os\n",
    "import shutil\n",
    "import random\n",
    "\n",
    "def split_dataset(original_dir, output_base_dir, split_ratios=(0.7, 0.15, 0.15), seed=42):\n",
    "    random.seed(seed)\n",
    "    categories = [d for d in os.listdir(original_dir) if os.path.isdir(os.path.join(original_dir, d))]\n",
    "\n",
    "    for category in categories:\n",
    "        src_dir = os.path.join(original_dir, category)\n",
    "        images = [f for f in os.listdir(src_dir) if f.endswith('.png')]\n",
    "        random.shuffle(images)\n",
    "\n",
    "        n_total = len(images)\n",
    "        n_train = int(split_ratios[0] * n_total)\n",
    "        n_val = int(split_ratios[1] * n_total)\n",
    "        \n",
    "        splits = {\n",
    "            'train': images[:n_train],\n",
    "            'val': images[n_train:n_train + n_val],\n",
    "            'test': images[n_train + n_val:]\n",
    "        }\n",
    "\n",
    "        for split_name, split_files in splits.items():\n",
    "            dst_dir = os.path.join(output_base_dir, split_name, category)\n",
    "            os.makedirs(dst_dir, exist_ok=True)\n",
    "            for fname in split_files:\n",
    "                shutil.copy(os.path.join(src_dir, fname), os.path.join(dst_dir, fname))\n",
    "\n",
    "\n",
    "# Example usage:\n",
    "original_dataset = 'C:/Users/modik/Downloads/Behavioral Data Science/homework 3/FERG_DB_SUBSET/mery'  # Your current folder with 7 emotions\n",
    "output_dataset = 'C:/Users/modik/Downloads/Behavioral Data Science/homework 3/FERG_subset'        # New folder to hold train/val/test\n",
    "\n",
    "split_dataset(original_dataset, output_dataset)\n"
   ]
  },
  {
   "cell_type": "code",
   "execution_count": 3,
   "metadata": {},
   "outputs": [
    {
     "name": "stdout",
     "output_type": "stream",
     "text": [
      "Duplicate files between train & val:  0\n",
      "Duplicate files between train & test: 0\n",
      "Duplicate files between val & test:   0\n",
      "No overlap found — splits are clean.\n"
     ]
    }
   ],
   "source": [
    "import os\n",
    "import hashlib\n",
    "\n",
    "def file_hash(filepath):\n",
    "    with open(filepath, 'rb') as f:\n",
    "        return hashlib.md5(f.read()).hexdigest()\n",
    "\n",
    "def hash_all_files(folder):\n",
    "    hashes = set()\n",
    "    for root, _, files in os.walk(folder):\n",
    "        for f in files:\n",
    "            if f.lower().endswith(('.jpg', '.jpeg', '.png')):\n",
    "                full_path = os.path.join(root, f)\n",
    "                hashes.add(file_hash(full_path))\n",
    "    return hashes\n",
    "\n",
    "train_hashes = hash_all_files('C:/Users/modik/Downloads/Behavioral Data Science/homework 3/FERG_subset/train')\n",
    "val_hashes = hash_all_files('C:/Users/modik/Downloads/Behavioral Data Science/homework 3/FERG_subset/val')\n",
    "test_hashes = hash_all_files('C:/Users/modik/Downloads/Behavioral Data Science/homework 3/FERG_subset/test')\n",
    "\n",
    "# Check for overlaps\n",
    "overlap_train_val = train_hashes.intersection(val_hashes)\n",
    "overlap_train_test = train_hashes.intersection(test_hashes)\n",
    "overlap_val_test = val_hashes.intersection(test_hashes)\n",
    "\n",
    "print(f\"Duplicate files between train & val:  {len(overlap_train_val)}\")\n",
    "print(f\"Duplicate files between train & test: {len(overlap_train_test)}\")\n",
    "print(f\"Duplicate files between val & test:   {len(overlap_val_test)}\")\n",
    "\n",
    "if any([overlap_train_val, overlap_train_test, overlap_val_test]):\n",
    "    print(\"DATA LEAKED - splits are not clean.\")\n",
    "else:\n",
    "    print(\"No overlap found — splits are clean.\")\n"
   ]
  },
  {
   "cell_type": "code",
   "execution_count": 4,
   "metadata": {},
   "outputs": [
    {
     "name": "stdout",
     "output_type": "stream",
     "text": [
      "Found 5287 images belonging to 7 classes.\n",
      "Found 1131 images belonging to 7 classes.\n",
      "Found 1140 images belonging to 7 classes.\n"
     ]
    }
   ],
   "source": [
    "import tensorflow as tf\n",
    "from tensorflow.keras.preprocessing.image import ImageDataGenerator\n",
    "from tensorflow.keras.models import Sequential\n",
    "from tensorflow.keras.layers import Conv2D, MaxPooling2D, Flatten, Dense, Dropout\n",
    "from tensorflow.keras.optimizers import Adam\n",
    "from sklearn.metrics import classification_report, confusion_matrix\n",
    "import matplotlib.pyplot as plt\n",
    "import numpy as np\n",
    "import seaborn as sns\n",
    "\n",
    "# Image size and batch setup\n",
    "img_size = (64, 64)\n",
    "batch_size = 32\n",
    "epochs = 10\n",
    "\n",
    "# Load data\n",
    "datagen = ImageDataGenerator(rescale=1./255)\n",
    "\n",
    "train_gen = datagen.flow_from_directory(\n",
    "    'C:/Users/modik/Downloads/Behavioral Data Science/homework 3/FERG_subset/train',\n",
    "    target_size=img_size,\n",
    "    batch_size=batch_size,\n",
    "    class_mode='categorical',\n",
    "    shuffle=True,\n",
    "    seed=42\n",
    ")\n",
    "\n",
    "val_gen = datagen.flow_from_directory(\n",
    "    'C:/Users/modik/Downloads/Behavioral Data Science/homework 3/FERG_subset/val',\n",
    "    target_size=img_size,\n",
    "    batch_size=batch_size,\n",
    "    class_mode='categorical',\n",
    "    shuffle=True,\n",
    "    seed=42\n",
    ")\n",
    "\n",
    "test_gen = datagen.flow_from_directory(\n",
    "    'C:/Users/modik/Downloads/Behavioral Data Science/homework 3/FERG_subset/test',\n",
    "    target_size=img_size,\n",
    "    batch_size=1,\n",
    "    class_mode='categorical',\n",
    "    shuffle=False  # important for predictions\n",
    ")"
   ]
  },
  {
   "cell_type": "code",
   "execution_count": null,
   "metadata": {},
   "outputs": [],
   "source": [
    "# Found 5287 (70%) images belonging to 7 classes → training set: 5287 images spread across 7 emotion categories.\n",
    "# Found 1131 (15%) images belonging to 7 classes → validation set: 1131 images used to tune the model and detect overfitting.\n",
    "# Found 1140 (15%) images belonging to 7 classes → test set: 1140 completely unseen images used for final evaluation."
   ]
  },
  {
   "cell_type": "code",
   "execution_count": 6,
   "metadata": {},
   "outputs": [
    {
     "name": "stderr",
     "output_type": "stream",
     "text": [
      "c:\\Users\\modik\\Downloads\\Anaconda\\envs\\behavioral-data-science\\Lib\\site-packages\\keras\\src\\layers\\convolutional\\base_conv.py:107: UserWarning: Do not pass an `input_shape`/`input_dim` argument to a layer. When using Sequential models, prefer using an `Input(shape)` object as the first layer in the model instead.\n",
      "  super().__init__(activity_regularizer=activity_regularizer, **kwargs)\n"
     ]
    }
   ],
   "source": [
    "# Build model\n",
    "model = Sequential([\n",
    "    Conv2D(32, (3,3), activation='relu', input_shape=(64, 64, 3)),\n",
    "    MaxPooling2D(),\n",
    "    Conv2D(64, (3,3), activation='relu'),\n",
    "    MaxPooling2D(),\n",
    "    Conv2D(128, (3,3), activation='relu'),\n",
    "    MaxPooling2D(),\n",
    "    Flatten(),\n",
    "    Dropout(0.5),\n",
    "    Dense(128, activation='relu'),\n",
    "    Dense(train_gen.num_classes, activation='softmax')\n",
    "])\n",
    "\n",
    "model.compile(optimizer=Adam(),\n",
    "              loss='categorical_crossentropy',\n",
    "              metrics=['accuracy'])\n"
   ]
  },
  {
   "cell_type": "code",
   "execution_count": 7,
   "metadata": {},
   "outputs": [
    {
     "name": "stderr",
     "output_type": "stream",
     "text": [
      "c:\\Users\\modik\\Downloads\\Anaconda\\envs\\behavioral-data-science\\Lib\\site-packages\\keras\\src\\trainers\\data_adapters\\py_dataset_adapter.py:121: UserWarning: Your `PyDataset` class should call `super().__init__(**kwargs)` in its constructor. `**kwargs` can include `workers`, `use_multiprocessing`, `max_queue_size`. Do not pass these arguments to `fit()`, as they will be ignored.\n",
      "  self._warn_if_super_not_called()\n"
     ]
    },
    {
     "name": "stdout",
     "output_type": "stream",
     "text": [
      "Epoch 1/10\n",
      "\u001b[1m166/166\u001b[0m \u001b[32m━━━━━━━━━━━━━━━━━━━━\u001b[0m\u001b[37m\u001b[0m \u001b[1m29s\u001b[0m 155ms/step - accuracy: 0.5936 - loss: 1.0325 - val_accuracy: 0.9982 - val_loss: 0.0050\n",
      "Epoch 2/10\n",
      "\u001b[1m166/166\u001b[0m \u001b[32m━━━━━━━━━━━━━━━━━━━━\u001b[0m\u001b[37m\u001b[0m \u001b[1m25s\u001b[0m 150ms/step - accuracy: 0.9989 - loss: 0.0070 - val_accuracy: 0.9991 - val_loss: 0.0035\n",
      "Epoch 3/10\n",
      "\u001b[1m166/166\u001b[0m \u001b[32m━━━━━━━━━━━━━━━━━━━━\u001b[0m\u001b[37m\u001b[0m \u001b[1m25s\u001b[0m 150ms/step - accuracy: 0.9997 - loss: 0.0028 - val_accuracy: 1.0000 - val_loss: 1.5383e-04\n",
      "Epoch 4/10\n",
      "\u001b[1m166/166\u001b[0m \u001b[32m━━━━━━━━━━━━━━━━━━━━\u001b[0m\u001b[37m\u001b[0m \u001b[1m25s\u001b[0m 152ms/step - accuracy: 1.0000 - loss: 5.7910e-04 - val_accuracy: 1.0000 - val_loss: 6.0590e-04\n",
      "Epoch 5/10\n",
      "\u001b[1m166/166\u001b[0m \u001b[32m━━━━━━━━━━━━━━━━━━━━\u001b[0m\u001b[37m\u001b[0m \u001b[1m24s\u001b[0m 146ms/step - accuracy: 1.0000 - loss: 6.5733e-04 - val_accuracy: 1.0000 - val_loss: 7.5898e-05\n",
      "Epoch 6/10\n",
      "\u001b[1m166/166\u001b[0m \u001b[32m━━━━━━━━━━━━━━━━━━━━\u001b[0m\u001b[37m\u001b[0m \u001b[1m26s\u001b[0m 156ms/step - accuracy: 1.0000 - loss: 1.4570e-04 - val_accuracy: 1.0000 - val_loss: 2.9506e-05\n",
      "Epoch 7/10\n",
      "\u001b[1m166/166\u001b[0m \u001b[32m━━━━━━━━━━━━━━━━━━━━\u001b[0m\u001b[37m\u001b[0m \u001b[1m23s\u001b[0m 137ms/step - accuracy: 0.9971 - loss: 0.0073 - val_accuracy: 1.0000 - val_loss: 1.6205e-04\n",
      "Epoch 8/10\n",
      "\u001b[1m166/166\u001b[0m \u001b[32m━━━━━━━━━━━━━━━━━━━━\u001b[0m\u001b[37m\u001b[0m \u001b[1m22s\u001b[0m 134ms/step - accuracy: 0.9979 - loss: 0.0072 - val_accuracy: 1.0000 - val_loss: 3.1218e-05\n",
      "Epoch 9/10\n",
      "\u001b[1m166/166\u001b[0m \u001b[32m━━━━━━━━━━━━━━━━━━━━\u001b[0m\u001b[37m\u001b[0m \u001b[1m23s\u001b[0m 141ms/step - accuracy: 1.0000 - loss: 1.3387e-04 - val_accuracy: 1.0000 - val_loss: 3.2824e-05\n",
      "Epoch 10/10\n",
      "\u001b[1m166/166\u001b[0m \u001b[32m━━━━━━━━━━━━━━━━━━━━\u001b[0m\u001b[37m\u001b[0m \u001b[1m23s\u001b[0m 136ms/step - accuracy: 1.0000 - loss: 5.7788e-05 - val_accuracy: 1.0000 - val_loss: 2.9884e-05\n"
     ]
    }
   ],
   "source": [
    "# Train\n",
    "history = model.fit(\n",
    "    train_gen,\n",
    "    validation_data=val_gen,\n",
    "    epochs=epochs\n",
    ")"
   ]
  },
  {
   "cell_type": "code",
   "execution_count": 8,
   "metadata": {},
   "outputs": [
    {
     "name": "stdout",
     "output_type": "stream",
     "text": [
      "\u001b[1m1140/1140\u001b[0m \u001b[32m━━━━━━━━━━━━━━━━━━━━\u001b[0m\u001b[37m\u001b[0m \u001b[1m7s\u001b[0m 7ms/step - accuracy: 1.0000 - loss: 1.8796e-06\n",
      "Final Test Accuracy: 1.0000\n",
      "\u001b[1m1140/1140\u001b[0m \u001b[32m━━━━━━━━━━━━━━━━━━━━\u001b[0m\u001b[37m\u001b[0m \u001b[1m7s\u001b[0m 6ms/step\n"
     ]
    }
   ],
   "source": [
    "# Evaluate\n",
    "loss, acc = model.evaluate(test_gen)\n",
    "print(f\"Final Test Accuracy: {acc:.4f}\")\n",
    "\n",
    "# Predictions\n",
    "pred_probs = model.predict(test_gen)\n",
    "pred_classes = np.argmax(pred_probs, axis=1)\n",
    "true_classes = test_gen.classes\n",
    "class_labels = list(test_gen.class_indices.keys())"
   ]
  },
  {
   "cell_type": "code",
   "execution_count": 9,
   "metadata": {},
   "outputs": [
    {
     "data": {
      "image/png": "[encoded data removed]",
      "text/plain": [
       "<Figure size 800x600 with 2 Axes>"
      ]
     },
     "metadata": {},
     "output_type": "display_data"
    },
    {
     "name": "stdout",
     "output_type": "stream",
     "text": [
      "               precision    recall  f1-score   support\n",
      "\n",
      "   mery_anger       1.00      1.00      1.00       215\n",
      " mery_disgust       1.00      1.00      1.00       138\n",
      "    mery_fear       1.00      1.00      1.00       156\n",
      "     mery_joy       1.00      1.00      1.00       171\n",
      " mery_neutral       1.00      1.00      1.00       142\n",
      " mery_sadness       1.00      1.00      1.00       158\n",
      "mery_surprise       1.00      1.00      1.00       160\n",
      "\n",
      "     accuracy                           1.00      1140\n",
      "    macro avg       1.00      1.00      1.00      1140\n",
      " weighted avg       1.00      1.00      1.00      1140\n",
      "\n"
     ]
    }
   ],
   "source": [
    "# Confusion Matrix\n",
    "cm = confusion_matrix(true_classes, pred_classes)\n",
    "plt.figure(figsize=(8,6))\n",
    "sns.heatmap(cm, annot=True, fmt='d', xticklabels=class_labels, yticklabels=class_labels, cmap='Blues')\n",
    "plt.title(\"Confusion Matrix\")\n",
    "plt.xlabel(\"Predicted\")\n",
    "plt.ylabel(\"True\")\n",
    "plt.show()\n",
    "\n",
    "# Classification Report\n",
    "print(classification_report(true_classes, pred_classes, target_names=class_labels))"
   ]
  }
 ],
 "metadata": {
  "kernelspec": {
   "display_name": "Python 3",
   "language": "python",
   "name": "python3"
  },
  "language_info": {
   "codemirror_mode": {
    "name": "ipython",
    "version": 3
   },
   "file_extension": ".py",
   "mimetype": "text/x-python",
   "name": "python",
   "nbconvert_exporter": "python",
   "pygments_lexer": "ipython3",
   "version": "3.12.0"
  }
 },
 "nbformat": 4,
 "nbformat_minor": 2
}
